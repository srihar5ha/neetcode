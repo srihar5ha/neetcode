{
 "cells": [
  {
   "cell_type": "code",
   "execution_count": 9,
   "id": "3e2fbffd",
   "metadata": {},
   "outputs": [],
   "source": [
    "def trap(num):\n",
    "    left=[0]*len(num)\n",
    "    right=[0]*len(num)\n",
    "    left[0]=num[0]\n",
    "    area=0\n",
    "    right[len(num)-1]=num[-1]\n",
    "    for i in range(1,len(num)):\n",
    "        left[i]=max(num[i],left[i-1])\n",
    "    for i in range(len(num)-2,0,-1):\n",
    "        right[i]=max(right[i+1],num[i])\n",
    "    #print(right)\n",
    "    for i in range(1,len(num)-1):\n",
    "        area+=min(left[i],right[i])-num[i]\n",
    "    print(area)"
   ]
  },
  {
   "cell_type": "code",
   "execution_count": 16,
   "id": "532a8ef9",
   "metadata": {},
   "outputs": [],
   "source": [
    "num = [2]"
   ]
  },
  {
   "cell_type": "code",
   "execution_count": 17,
   "id": "f8ec6bfc",
   "metadata": {},
   "outputs": [
    {
     "name": "stdout",
     "output_type": "stream",
     "text": [
      "0\n"
     ]
    }
   ],
   "source": [
    "trap(num)"
   ]
  },
  {
   "cell_type": "code",
   "execution_count": null,
   "id": "bca50248",
   "metadata": {},
   "outputs": [],
   "source": []
  }
 ],
 "metadata": {
  "kernelspec": {
   "display_name": "Python 3 (ipykernel)",
   "language": "python",
   "name": "python3"
  },
  "language_info": {
   "codemirror_mode": {
    "name": "ipython",
    "version": 3
   },
   "file_extension": ".py",
   "mimetype": "text/x-python",
   "name": "python",
   "nbconvert_exporter": "python",
   "pygments_lexer": "ipython3",
   "version": "3.10.7"
  }
 },
 "nbformat": 4,
 "nbformat_minor": 5
}
