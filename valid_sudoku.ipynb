{
 "cells": [
  {
   "cell_type": "code",
   "execution_count": 64,
   "id": "cb19d084",
   "metadata": {},
   "outputs": [],
   "source": [
    "def checkrows(board):\n",
    "    for r in board:\n",
    "        h=[0]*10\n",
    "        for i in range(0,9):\n",
    "            if(r[i])==\".\":\n",
    "                r[i]=0\n",
    "            r[i]=int(r[i])\n",
    "            if(h[r[i]]!=0):\n",
    "                return false\n",
    "            else:\n",
    "                h[r[i]]=r[i]\n",
    "    return True"
   ]
  },
  {
   "cell_type": "code",
   "execution_count": 65,
   "id": "da904242",
   "metadata": {},
   "outputs": [],
   "source": [
    "board=[[\"5\",\"3\",\".\",\".\",\"7\",\".\",\".\",\".\",\".\"]\n",
    ",[\"6\",\".\",\".\",\"1\",\"9\",\"5\",\".\",\".\",\".\"]\n",
    ",[\".\",\"9\",\"8\",\".\",\".\",\".\",\".\",\"6\",\".\"]\n",
    ",[\"8\",\".\",\".\",\".\",\"6\",\".\",\".\",\".\",\"3\"]\n",
    ",[\"4\",\".\",\".\",\"8\",\".\",\"3\",\".\",\".\",\"1\"]\n",
    ",[\"7\",\".\",\".\",\".\",\"2\",\".\",\".\",\".\",\"6\"]\n",
    ",[\".\",\"6\",\".\",\".\",\".\",\".\",\"2\",\"8\",\".\"]\n",
    ",[\".\",\".\",\".\",\"4\",\"1\",\"9\",\".\",\".\",\"5\"]\n",
    ",[\".\",\".\",\".\",\".\",\"8\",\".\",\".\",\"7\",\"9\"]]"
   ]
  },
  {
   "cell_type": "code",
   "execution_count": 66,
   "id": "1c08bebf",
   "metadata": {},
   "outputs": [
    {
     "data": {
      "text/plain": [
       "True"
      ]
     },
     "execution_count": 66,
     "metadata": {},
     "output_type": "execute_result"
    }
   ],
   "source": [
    "checkrows(board)"
   ]
  },
  {
   "cell_type": "code",
   "execution_count": 97,
   "id": "cf50be60",
   "metadata": {},
   "outputs": [],
   "source": [
    "def checkcolumns(board):\n",
    "    for i in range(0,9):\n",
    "        h=[0]*10\n",
    "        for j in range(0,9):\n",
    "            if(board[j][i])==\".\":\n",
    "                board[j][i]=0\n",
    "            board[j][i]=int(board[j][i])\n",
    "            if(h[board[j][i]]!=0):\n",
    "                return False\n",
    "            else:\n",
    "                h[board[j][i]]=board[j][i]\n",
    "    return True\n",
    "                "
   ]
  },
  {
   "cell_type": "code",
   "execution_count": 98,
   "id": "f5ada9d5",
   "metadata": {},
   "outputs": [
    {
     "data": {
      "text/plain": [
       "False"
      ]
     },
     "execution_count": 98,
     "metadata": {},
     "output_type": "execute_result"
    }
   ],
   "source": [
    "checkcolumns(board3)"
   ]
  },
  {
   "cell_type": "code",
   "execution_count": 76,
   "id": "f46b626d",
   "metadata": {},
   "outputs": [],
   "source": [
    "def check3x3(board):\n",
    "    for i in range(0,7,3):\n",
    "        for j in range(0,7,3):\n",
    "            h=[0]*10\n",
    "            for x in range(0,3):\n",
    "                for y in range(0,3):\n",
    "                    if(board[i+x][j+y]==\".\"):\n",
    "                        board[i+x][j+y]=0\n",
    "                    board[i+x][j+y]=int(board[i+x][j+y])\n",
    "                    if(h[board[i+x][j+y]]!=0):\n",
    "                        #print(\"h \",h[board[i+x][j+y]],board[i+x][j+y],i,x,j,y)\n",
    "                        return False\n",
    "                    else:\n",
    "                        if(board[i+x][j+y]==0):\n",
    "                            h[board[i+x][j+y]]=0\n",
    "                        else:\n",
    "                            h[board[i+x][j+y]]=1\n",
    "    return True\n",
    "    "
   ]
  },
  {
   "cell_type": "code",
   "execution_count": 70,
   "id": "20317be3",
   "metadata": {},
   "outputs": [
    {
     "data": {
      "text/plain": [
       "True"
      ]
     },
     "execution_count": 70,
     "metadata": {},
     "output_type": "execute_result"
    }
   ],
   "source": [
    "check3x3(board)"
   ]
  },
  {
   "cell_type": "code",
   "execution_count": 71,
   "id": "8c2ba712",
   "metadata": {},
   "outputs": [
    {
     "data": {
      "text/plain": [
       "[[5, 3, 0, 0, 7, 0, 0, 0, 0],\n",
       " [6, 0, 0, 1, 9, 5, 0, 0, 0],\n",
       " [0, 9, 8, 0, 0, 0, 0, 6, 0],\n",
       " [8, 0, 0, 0, 6, 0, 0, 0, 3],\n",
       " [4, 0, 0, 8, 0, 3, 0, 0, 1],\n",
       " [7, 0, 0, 0, 2, 0, 0, 0, 6],\n",
       " [0, 6, 0, 0, 0, 0, 2, 8, 0],\n",
       " [0, 0, 0, 4, 1, 9, 0, 0, 5],\n",
       " [0, 0, 0, 0, 8, 0, 0, 7, 9]]"
      ]
     },
     "execution_count": 71,
     "metadata": {},
     "output_type": "execute_result"
    }
   ],
   "source": [
    "board"
   ]
  },
  {
   "cell_type": "code",
   "execution_count": 72,
   "id": "8c3a2a1d",
   "metadata": {},
   "outputs": [],
   "source": [
    "def valid_sudoku(board):\n",
    "    return checkrows(board) and checkcolumns(board) and check3x3(board)"
   ]
  },
  {
   "cell_type": "code",
   "execution_count": 73,
   "id": "1c8b67d0",
   "metadata": {},
   "outputs": [
    {
     "data": {
      "text/plain": [
       "True"
      ]
     },
     "execution_count": 73,
     "metadata": {},
     "output_type": "execute_result"
    }
   ],
   "source": [
    "valid_sudoku(board)"
   ]
  },
  {
   "cell_type": "code",
   "execution_count": 74,
   "id": "617f69b9",
   "metadata": {},
   "outputs": [],
   "source": [
    "board2=[[\"8\",\"3\",\".\",\".\",\"7\",\".\",\".\",\".\",\".\"]\n",
    ",[\"6\",\".\",\".\",\"1\",\"9\",\"5\",\".\",\".\",\".\"]\n",
    ",[\".\",\"9\",\"8\",\".\",\".\",\".\",\".\",\"6\",\".\"]\n",
    ",[\"8\",\".\",\".\",\".\",\"6\",\".\",\".\",\".\",\"3\"]\n",
    ",[\"4\",\".\",\".\",\"8\",\".\",\"3\",\".\",\".\",\"1\"]\n",
    ",[\"7\",\".\",\".\",\".\",\"2\",\".\",\".\",\".\",\"6\"]\n",
    ",[\".\",\"6\",\".\",\".\",\".\",\".\",\"2\",\"8\",\".\"]\n",
    ",[\".\",\".\",\".\",\"4\",\"1\",\"9\",\".\",\".\",\"5\"]\n",
    ",[\".\",\".\",\".\",\".\",\"8\",\".\",\".\",\"7\",\"9\"]]"
   ]
  },
  {
   "cell_type": "code",
   "execution_count": 77,
   "id": "e2f8cb0d",
   "metadata": {},
   "outputs": [
    {
     "data": {
      "text/plain": [
       "False"
      ]
     },
     "execution_count": 77,
     "metadata": {},
     "output_type": "execute_result"
    }
   ],
   "source": [
    "valid_sudoku(board2)"
   ]
  },
  {
   "cell_type": "code",
   "execution_count": 93,
   "id": "7abfc5c5",
   "metadata": {},
   "outputs": [],
   "source": [
    "board3=[[\".\",\".\",\"4\",\".\",\".\",\".\",\"6\",\"3\",\".\"],[\".\",\".\",\".\",\".\",\".\",\".\",\".\",\".\",\".\"],[\"5\",\".\",\".\",\".\",\".\",\".\",\".\",\"9\",\".\"],[\".\",\".\",\".\",\"5\",\"6\",\".\",\".\",\".\",\".\"],[\"4\",\".\",\"3\",\".\",\".\",\".\",\".\",\".\",\"1\"],[\".\",\".\",\".\",\"7\",\".\",\".\",\".\",\".\",\".\"],[\".\",\".\",\".\",\"5\",\".\",\".\",\".\",\".\",\".\"],[\".\",\".\",\".\",\".\",\".\",\".\",\".\",\".\",\".\"],[\".\",\".\",\".\",\".\",\".\",\".\",\".\",\".\",\".\"]]\n"
   ]
  },
  {
   "cell_type": "code",
   "execution_count": null,
   "id": "c06d0ed0",
   "metadata": {},
   "outputs": [],
   "source": []
  },
  {
   "cell_type": "code",
   "execution_count": 94,
   "id": "5f5cd270",
   "metadata": {},
   "outputs": [
    {
     "name": "stdout",
     "output_type": "stream",
     "text": [
      "['0', '0', '4', '0', '0', '0', '6', '3', '0']\n",
      "['0', '0', '0', '0', '0', '0', '0', '0', '0']\n",
      "['5', '0', '0', '0', '0', '0', '0', '9', '0']\n",
      "['0', '0', '0', '5', '6', '0', '0', '0', '0']\n",
      "['4', '0', '3', '0', '0', '0', '0', '0', '1']\n",
      "['0', '0', '0', '7', '0', '0', '0', '0', '0']\n",
      "['0', '0', '0', '5', '0', '0', '0', '0', '0']\n",
      "['0', '0', '0', '0', '0', '0', '0', '0', '0']\n",
      "['0', '0', '0', '0', '0', '0', '0', '0', '0']\n"
     ]
    }
   ],
   "source": [
    "\n",
    "for i in board3:\n",
    "    i=list(map(lambda x: x.replace(\".\",\"0\"), i))\n",
    "    print(i)\n"
   ]
  },
  {
   "cell_type": "code",
   "execution_count": 96,
   "id": "b5daf54a",
   "metadata": {},
   "outputs": [
    {
     "data": {
      "text/plain": [
       "True"
      ]
     },
     "execution_count": 96,
     "metadata": {},
     "output_type": "execute_result"
    }
   ],
   "source": [
    "checkcolumns(board3)"
   ]
  },
  {
   "cell_type": "code",
   "execution_count": 99,
   "id": "64184112",
   "metadata": {},
   "outputs": [
    {
     "data": {
      "text/plain": [
       "0"
      ]
     },
     "execution_count": 99,
     "metadata": {},
     "output_type": "execute_result"
    }
   ],
   "source": [
    "0//3\n"
   ]
  },
  {
   "cell_type": "code",
   "execution_count": 100,
   "id": "eedc2e55",
   "metadata": {},
   "outputs": [
    {
     "data": {
      "text/plain": [
       "1"
      ]
     },
     "execution_count": 100,
     "metadata": {},
     "output_type": "execute_result"
    }
   ],
   "source": [
    "4//3"
   ]
  },
  {
   "cell_type": "code",
   "execution_count": null,
   "id": "5c087b46",
   "metadata": {},
   "outputs": [],
   "source": []
  }
 ],
 "metadata": {
  "kernelspec": {
   "display_name": "Python 3 (ipykernel)",
   "language": "python",
   "name": "python3"
  },
  "language_info": {
   "codemirror_mode": {
    "name": "ipython",
    "version": 3
   },
   "file_extension": ".py",
   "mimetype": "text/x-python",
   "name": "python",
   "nbconvert_exporter": "python",
   "pygments_lexer": "ipython3",
   "version": "3.10.7"
  }
 },
 "nbformat": 4,
 "nbformat_minor": 5
}
