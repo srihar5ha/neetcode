{
 "cells": [
  {
   "cell_type": "code",
   "execution_count": 8,
   "id": "ff196b4a",
   "metadata": {},
   "outputs": [],
   "source": [
    "s=\"hi my name, is col-is\"\n"
   ]
  },
  {
   "cell_type": "code",
   "execution_count": 20,
   "id": "635f13c4",
   "metadata": {},
   "outputs": [],
   "source": [
    "import string\n",
    "news=s.translate(str.maketrans('','',string.punctuation))"
   ]
  },
  {
   "cell_type": "code",
   "execution_count": 27,
   "id": "e0ef02c3",
   "metadata": {},
   "outputs": [],
   "source": [
    "news=news.replace(' ','')"
   ]
  },
  {
   "cell_type": "code",
   "execution_count": 28,
   "id": "7538d99e",
   "metadata": {},
   "outputs": [
    {
     "data": {
      "text/plain": [
       "'silocsiemanymih'"
      ]
     },
     "execution_count": 28,
     "metadata": {},
     "output_type": "execute_result"
    }
   ],
   "source": [
    "news[::-1]"
   ]
  },
  {
   "cell_type": "code",
   "execution_count": 29,
   "id": "86c38b79",
   "metadata": {},
   "outputs": [
    {
     "data": {
      "text/plain": [
       "'himynameiscolis'"
      ]
     },
     "execution_count": 29,
     "metadata": {},
     "output_type": "execute_result"
    }
   ],
   "source": [
    "news"
   ]
  },
  {
   "cell_type": "code",
   "execution_count": 31,
   "id": "e89938df",
   "metadata": {},
   "outputs": [
    {
     "data": {
      "text/plain": [
       "'HIMYNAMEISCOLIS'"
      ]
     },
     "execution_count": 31,
     "metadata": {},
     "output_type": "execute_result"
    }
   ],
   "source": [
    "news.upper()"
   ]
  },
  {
   "cell_type": "code",
   "execution_count": 32,
   "id": "3aee9f62",
   "metadata": {},
   "outputs": [
    {
     "data": {
      "text/plain": [
       "'himynameiscolis'"
      ]
     },
     "execution_count": 32,
     "metadata": {},
     "output_type": "execute_result"
    }
   ],
   "source": [
    "news.lower()"
   ]
  },
  {
   "cell_type": "code",
   "execution_count": null,
   "id": "9488b275",
   "metadata": {},
   "outputs": [],
   "source": []
  }
 ],
 "metadata": {
  "kernelspec": {
   "display_name": "Python 3 (ipykernel)",
   "language": "python",
   "name": "python3"
  },
  "language_info": {
   "codemirror_mode": {
    "name": "ipython",
    "version": 3
   },
   "file_extension": ".py",
   "mimetype": "text/x-python",
   "name": "python",
   "nbconvert_exporter": "python",
   "pygments_lexer": "ipython3",
   "version": "3.10.7"
  }
 },
 "nbformat": 4,
 "nbformat_minor": 5
}
