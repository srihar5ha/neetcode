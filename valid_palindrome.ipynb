{
 "cells": [
  {
   "cell_type": "code",
   "execution_count": 1,
   "id": "3918bc55",
   "metadata": {},
   "outputs": [],
   "source": [
    "def isPalindrome(self, s: str) -> bool:\n",
    "        s=s.translate(str.maketrans('','',string.punctuation))\n",
    "        s=s.replace(' ','')\n",
    "        new_s=s[::-1]\n",
    "        s=s.lower()\n",
    "        new_s=new_s.lower()\n",
    "        #print(\"s \",s)\n",
    "        #print(\"new s,\",new_s)\n",
    "        if(s==new_s):\n",
    "            return True\n",
    "        return False"
   ]
  },
  {
   "cell_type": "code",
   "execution_count": null,
   "id": "4ac768ad",
   "metadata": {},
   "outputs": [],
   "source": []
  }
 ],
 "metadata": {
  "kernelspec": {
   "display_name": "Python 3 (ipykernel)",
   "language": "python",
   "name": "python3"
  },
  "language_info": {
   "codemirror_mode": {
    "name": "ipython",
    "version": 3
   },
   "file_extension": ".py",
   "mimetype": "text/x-python",
   "name": "python",
   "nbconvert_exporter": "python",
   "pygments_lexer": "ipython3",
   "version": "3.10.7"
  }
 },
 "nbformat": 4,
 "nbformat_minor": 5
}
