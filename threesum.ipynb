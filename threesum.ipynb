{
 "cells": [
  {
   "cell_type": "code",
   "execution_count": 63,
   "id": "06ca171e",
   "metadata": {},
   "outputs": [],
   "source": [
    "nums = [-2,0,1,1,2]\n",
    "target=0\n",
    "#sum of triplets must be zero"
   ]
  },
  {
   "cell_type": "code",
   "execution_count": 64,
   "id": "630131a5",
   "metadata": {},
   "outputs": [],
   "source": [
    "def ttttthreesum(nums):\n",
    "    triplets=[]\n",
    "    nums=list(set(nums))\n",
    "    nums.sort()\n",
    "    \n",
    "    for i in range(len(nums)-2):\n",
    "        for j in range(i+1,len(nums)-1):\n",
    "            for k in range(j+1,len(nums)):\n",
    "                if(nums[i]+nums[j]+nums[k] == 0):\n",
    "                    temp=[nums[i],nums[j],nums[k]]\n",
    "                    triplets.append(temp)\n",
    "                k+=1\n",
    "            j+=1\n",
    "        i+=1\n",
    "    return triplets\n",
    "    "
   ]
  },
  {
   "cell_type": "code",
   "execution_count": 76,
   "id": "3f8dc7a0",
   "metadata": {},
   "outputs": [],
   "source": [
    "def threesum(nums,target):\n",
    "    anslist=[]\n",
    "    nums.sort()\n",
    "    #nums=list(set(nums))\n",
    "    for i in range(len(nums)-2):\n",
    "        temp=nums[i+1:]\n",
    "        templist=twosum(temp,target-nums[i])\n",
    "        print(i,templist)\n",
    "        #if(j!=None and [nums[i],j,k] not in anslist):\n",
    "            #anslist.append([nums[i],j,k])\n",
    "    #print(anslist)"
   ]
  },
  {
   "cell_type": "code",
   "execution_count": 77,
   "id": "2ba5fe9f",
   "metadata": {},
   "outputs": [],
   "source": [
    "def twosum(numbers,target):\n",
    "    l,r=0,len(numbers)-1\n",
    "    templist=[]\n",
    "    while(l<r):\n",
    "        if(numbers[l]+numbers[r]==target):\n",
    "            templist.append([numbers[l],numbers[r]])\n",
    "            l+=1\n",
    "            r-=1\n",
    "        elif(numbers[l]+numbers[r]<target):\n",
    "            l+=1\n",
    "        else:\n",
    "            r-=1\n",
    "    return templist\n"
   ]
  },
  {
   "cell_type": "code",
   "execution_count": 78,
   "id": "b0c9553f",
   "metadata": {},
   "outputs": [
    {
     "data": {
      "text/plain": [
       "[-2, 0, 1, 1, 2]"
      ]
     },
     "execution_count": 78,
     "metadata": {},
     "output_type": "execute_result"
    }
   ],
   "source": [
    "nums"
   ]
  },
  {
   "cell_type": "code",
   "execution_count": 79,
   "id": "03264a03",
   "metadata": {},
   "outputs": [
    {
     "name": "stdout",
     "output_type": "stream",
     "text": [
      "0 [[0, 2], [1, 1]]\n",
      "1 []\n",
      "2 []\n"
     ]
    }
   ],
   "source": [
    "threesum(nums,target)"
   ]
  },
  {
   "cell_type": "code",
   "execution_count": 87,
   "id": "8245fefd",
   "metadata": {},
   "outputs": [
    {
     "name": "stdout",
     "output_type": "stream",
     "text": [
      "None\n"
     ]
    }
   ],
   "source": [
    "a=[1,2,3]\n",
    "t=[[4,5],[5,6]]\n",
    "print(t[0].insert(0,a[0]))\n",
    "    "
   ]
  },
  {
   "cell_type": "code",
   "execution_count": 88,
   "id": "fad647d5",
   "metadata": {},
   "outputs": [
    {
     "data": {
      "text/plain": [
       "[[1, 4, 5], [5, 6]]"
      ]
     },
     "execution_count": 88,
     "metadata": {},
     "output_type": "execute_result"
    }
   ],
   "source": [
    "t"
   ]
  },
  {
   "cell_type": "code",
   "execution_count": null,
   "id": "912af906",
   "metadata": {},
   "outputs": [],
   "source": []
  }
 ],
 "metadata": {
  "kernelspec": {
   "display_name": "Python 3 (ipykernel)",
   "language": "python",
   "name": "python3"
  },
  "language_info": {
   "codemirror_mode": {
    "name": "ipython",
    "version": 3
   },
   "file_extension": ".py",
   "mimetype": "text/x-python",
   "name": "python",
   "nbconvert_exporter": "python",
   "pygments_lexer": "ipython3",
   "version": "3.10.7"
  }
 },
 "nbformat": 4,
 "nbformat_minor": 5
}
