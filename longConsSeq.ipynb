{
 "cells": [
  {
   "cell_type": "code",
   "execution_count": 29,
   "id": "29fb0212",
   "metadata": {},
   "outputs": [],
   "source": [
    "nums=[10,11,0,2,3,4,1,-1,-2,-3,10,-5,-4,-6]"
   ]
  },
  {
   "cell_type": "code",
   "execution_count": 30,
   "id": "becae071",
   "metadata": {},
   "outputs": [],
   "source": [
    "hDict={}\n",
    "lenDict={}\n",
    "for i in nums:\n",
    "    hDict[i]=1        "
   ]
  },
  {
   "cell_type": "code",
   "execution_count": 31,
   "id": "8ec2b90a",
   "metadata": {},
   "outputs": [],
   "source": [
    "def rf(n):\n",
    "    if(hDict.get(n,0)==0):\n",
    "        return 0\n",
    "    lenDict[n]=rf(n-1)+1\n",
    "    return lenDict[n]"
   ]
  },
  {
   "cell_type": "code",
   "execution_count": 32,
   "id": "bdfe082a",
   "metadata": {},
   "outputs": [
    {
     "data": {
      "text/plain": [
       "1"
      ]
     },
     "execution_count": 32,
     "metadata": {},
     "output_type": "execute_result"
    }
   ],
   "source": [
    "n=0\n",
    "hDict.get(n-1,0)"
   ]
  },
  {
   "cell_type": "code",
   "execution_count": 33,
   "id": "ee0c6958",
   "metadata": {},
   "outputs": [
    {
     "name": "stdout",
     "output_type": "stream",
     "text": [
      "10 1 {10: 1}\n",
      "11 2 {10: 1, 11: 2}\n",
      "0 7 {10: 1, 11: 2, -6: 1, -5: 2, -4: 3, -3: 4, -2: 5, -1: 6, 0: 7}\n",
      "2 9 {10: 1, 11: 2, -6: 1, -5: 2, -4: 3, -3: 4, -2: 5, -1: 6, 0: 7, 1: 8, 2: 9}\n",
      "3 10 {10: 1, 11: 2, -6: 1, -5: 2, -4: 3, -3: 4, -2: 5, -1: 6, 0: 7, 1: 8, 2: 9, 3: 10}\n",
      "4 11 {10: 1, 11: 2, -6: 1, -5: 2, -4: 3, -3: 4, -2: 5, -1: 6, 0: 7, 1: 8, 2: 9, 3: 10, 4: 11}\n",
      "1 8 {10: 1, 11: 2, -6: 1, -5: 2, -4: 3, -3: 4, -2: 5, -1: 6, 0: 7, 1: 8, 2: 9, 3: 10, 4: 11}\n",
      "-1 6 {10: 1, 11: 2, -6: 1, -5: 2, -4: 3, -3: 4, -2: 5, -1: 6, 0: 7, 1: 8, 2: 9, 3: 10, 4: 11}\n",
      "-2 5 {10: 1, 11: 2, -6: 1, -5: 2, -4: 3, -3: 4, -2: 5, -1: 6, 0: 7, 1: 8, 2: 9, 3: 10, 4: 11}\n",
      "-3 4 {10: 1, 11: 2, -6: 1, -5: 2, -4: 3, -3: 4, -2: 5, -1: 6, 0: 7, 1: 8, 2: 9, 3: 10, 4: 11}\n",
      "10 1 {10: 1, 11: 2, -6: 1, -5: 2, -4: 3, -3: 4, -2: 5, -1: 6, 0: 7, 1: 8, 2: 9, 3: 10, 4: 11}\n",
      "-5 2 {10: 1, 11: 2, -6: 1, -5: 2, -4: 3, -3: 4, -2: 5, -1: 6, 0: 7, 1: 8, 2: 9, 3: 10, 4: 11}\n",
      "-4 3 {10: 1, 11: 2, -6: 1, -5: 2, -4: 3, -3: 4, -2: 5, -1: 6, 0: 7, 1: 8, 2: 9, 3: 10, 4: 11}\n",
      "-6 1 {10: 1, 11: 2, -6: 1, -5: 2, -4: 3, -3: 4, -2: 5, -1: 6, 0: 7, 1: 8, 2: 9, 3: 10, 4: 11}\n"
     ]
    }
   ],
   "source": [
    "for i in nums:\n",
    "    print(i,rf(i),lenDict)"
   ]
  },
  {
   "cell_type": "code",
   "execution_count": 12,
   "id": "92969294",
   "metadata": {},
   "outputs": [
    {
     "data": {
      "text/plain": [
       "11"
      ]
     },
     "execution_count": 12,
     "metadata": {},
     "output_type": "execute_result"
    }
   ],
   "source": [
    "max(lenDict.values())"
   ]
  },
  {
   "cell_type": "code",
   "execution_count": 41,
   "id": "e6333004",
   "metadata": {},
   "outputs": [],
   "source": [
    "def fnc1(nums):\n",
    "    globalmax=0\n",
    "    nums=set(nums) #### converting list into set is optimal for finding if element exists\n",
    "    for i in nums:\n",
    "        if i-1 in nums:\n",
    "            continue\n",
    "        j=1\n",
    "        localmax=1\n",
    "        \n",
    "        while(i+j in nums):\n",
    "            j+=1\n",
    "            localmax+=1\n",
    "        globalmax=max(globalmax,localmax)\n",
    "    print(globalmax)"
   ]
  },
  {
   "cell_type": "code",
   "execution_count": 42,
   "id": "07977ada",
   "metadata": {},
   "outputs": [
    {
     "name": "stdout",
     "output_type": "stream",
     "text": [
      "11\n"
     ]
    }
   ],
   "source": [
    "fnc1(nums)"
   ]
  },
  {
   "cell_type": "code",
   "execution_count": 43,
   "id": "7df89392",
   "metadata": {},
   "outputs": [
    {
     "data": {
      "text/plain": [
       "[10, 11, 0, 2, 3, 4, 1, -1, -2, -3, 10, -5, -4, -6]"
      ]
     },
     "execution_count": 43,
     "metadata": {},
     "output_type": "execute_result"
    }
   ],
   "source": [
    "nums\n"
   ]
  },
  {
   "cell_type": "code",
   "execution_count": 44,
   "id": "966c8a6c",
   "metadata": {},
   "outputs": [
    {
     "data": {
      "text/plain": [
       "list"
      ]
     },
     "execution_count": 44,
     "metadata": {},
     "output_type": "execute_result"
    }
   ],
   "source": [
    "type(nums)"
   ]
  },
  {
   "cell_type": "code",
   "execution_count": 45,
   "id": "7522ff37",
   "metadata": {},
   "outputs": [],
   "source": [
    "nums=set(nums)"
   ]
  },
  {
   "cell_type": "code",
   "execution_count": 46,
   "id": "9e9af379",
   "metadata": {},
   "outputs": [
    {
     "data": {
      "text/plain": [
       "set"
      ]
     },
     "execution_count": 46,
     "metadata": {},
     "output_type": "execute_result"
    }
   ],
   "source": [
    "type(nums)"
   ]
  },
  {
   "cell_type": "code",
   "execution_count": 49,
   "id": "b422a155",
   "metadata": {},
   "outputs": [
    {
     "ename": "TypeError",
     "evalue": "'set' object is not callable",
     "output_type": "error",
     "traceback": [
      "\u001b[1;31m---------------------------------------------------------------------------\u001b[0m",
      "\u001b[1;31mTypeError\u001b[0m                                 Traceback (most recent call last)",
      "Cell \u001b[1;32mIn [49], line 1\u001b[0m\n\u001b[1;32m----> 1\u001b[0m nums(\u001b[38;5;241m0\u001b[39m)\n",
      "\u001b[1;31mTypeError\u001b[0m: 'set' object is not callable"
     ]
    }
   ],
   "source": [
    "num"
   ]
  },
  {
   "cell_type": "code",
   "execution_count": null,
   "id": "80380fbc",
   "metadata": {},
   "outputs": [],
   "source": []
  }
 ],
 "metadata": {
  "kernelspec": {
   "display_name": "Python 3 (ipykernel)",
   "language": "python",
   "name": "python3"
  },
  "language_info": {
   "codemirror_mode": {
    "name": "ipython",
    "version": 3
   },
   "file_extension": ".py",
   "mimetype": "text/x-python",
   "name": "python",
   "nbconvert_exporter": "python",
   "pygments_lexer": "ipython3",
   "version": "3.10.7"
  }
 },
 "nbformat": 4,
 "nbformat_minor": 5
}
