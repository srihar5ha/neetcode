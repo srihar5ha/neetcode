{
 "cells": [
  {
   "cell_type": "code",
   "execution_count": 151,
   "id": "3f8dc7a0",
   "metadata": {},
   "outputs": [],
   "source": [
    "nums =[-1,0,1,2,-1,-4]\n",
    "target=0\n",
    "nums.sort()\n",
    "def threesum(nums,target):\n",
    "    anslist=[]\n",
    "    nums.sort()\n",
    "    prev=None\n",
    "    for i in range(len(nums)-2):\n",
    "        if(nums[i]==prev):\n",
    "            continue\n",
    "        temp=nums[i+1:]\n",
    "        templist=twosum(temp,target-nums[i])\n",
    "        print(nums[i],templist)\n",
    "        for item in templist:\n",
    "            item.insert(0,nums[i])\n",
    "            if item not in anslist:\n",
    "                anslist.append(item)\n",
    "        prev=nums[i]\n",
    "    print(anslist)"
   ]
  },
  {
   "cell_type": "code",
   "execution_count": 188,
   "id": "2ba5fe9f",
   "metadata": {},
   "outputs": [],
   "source": [
    "def twosum(nums,target):\n",
    "    hashMap={}\n",
    "    visit={}\n",
    "    templist=[]\n",
    "    for i,item in enumerate(nums):\n",
    "        hashMap[item]=i\n",
    "    print(\"hashmap \",hashMap)\n",
    "    for i in range(len(nums)):\n",
    "        diff=target-nums[i]\n",
    "        if visit.get(nums[i],None)!=1 and diff in hashMap and hashMap.get(diff,None)!=i:\n",
    "            templist.append([nums[i],diff])\n",
    "            visit[diff]=1\n",
    "    print(templist)\n",
    "        "
   ]
  },
  {
   "cell_type": "code",
   "execution_count": 189,
   "id": "ed6924de",
   "metadata": {},
   "outputs": [
    {
     "name": "stdout",
     "output_type": "stream",
     "text": [
      "[-4, -1, -1, 0, 1, 2]\n",
      "hashmap  {-1: 1, 0: 2, 1: 3, 2: 4}\n",
      "[[-1, 1], [1, -1]]\n"
     ]
    }
   ],
   "source": [
    "print(nums)\n",
    "#threesum(nums,0)\n",
    "twosum([-1,-1,0,1,2],0)"
   ]
  },
  {
   "cell_type": "code",
   "execution_count": null,
   "id": "091fe249",
   "metadata": {},
   "outputs": [],
   "source": [
    " def threeSum(self, nums: List[int]) -> List[List[int]]:\n",
    "        num=nums\n",
    "        num.sort()\n",
    "        hashmap={}\n",
    "        target=0\n",
    "        anslist=[]\n",
    "        temp=None\n",
    "        #print(\"inside\")\n",
    "        for i in range(len(num)):\n",
    "            hashmap[num[i]]=i\n",
    "        for i in range(len(num)-2):\n",
    "            if(num[i]==temp):\n",
    "                continue\n",
    "            print(\"i \",i)\n",
    "            diff=target-num[i]\n",
    "            j=i+1\n",
    "            k=(len(num)-1)\n",
    "            while(j<k):\n",
    "                if(num[j]+num[k]==diff and ([num[i],num[j],num[k]] not in anslist)):\n",
    "                    anslist.append([num[i],num[j],num[k]])\n",
    "                    j+=1\n",
    "                    k-=1\n",
    "                elif(num[j]+num[k]>diff):\n",
    "                    k-=1\n",
    "                else:\n",
    "                    j+=1\n",
    "            temp=num[i]\n",
    "    #print(anslist)\n",
    "        return anslist"
   ]
  }
 ],
 "metadata": {
  "kernelspec": {
   "display_name": "Python 3 (ipykernel)",
   "language": "python",
   "name": "python3"
  },
  "language_info": {
   "codemirror_mode": {
    "name": "ipython",
    "version": 3
   },
   "file_extension": ".py",
   "mimetype": "text/x-python",
   "name": "python",
   "nbconvert_exporter": "python",
   "pygments_lexer": "ipython3",
   "version": "3.10.7"
  }
 },
 "nbformat": 4,
 "nbformat_minor": 5
}
