{
 "cells": [
  {
   "cell_type": "code",
   "execution_count": 25,
   "id": "02fac860",
   "metadata": {},
   "outputs": [],
   "source": [
    "nums = [-1,0,1,2,-1,-4]\n",
    "#sum of triplets must be zero"
   ]
  },
  {
   "cell_type": "code",
   "execution_count": 26,
   "id": "c09156ba",
   "metadata": {},
   "outputs": [],
   "source": [
    "def threesum(nums):\n",
    "    triplets=[]\n",
    "    nums=list(set(nums))\n",
    "    nums.sort()\n",
    "    \n",
    "    for i in range(len(nums)-2):\n",
    "        for j in range(i+1,len(nums)-1):\n",
    "            for k in range(j+1,len(nums)):\n",
    "                if(nums[i]+nums[j]+nums[k] == 0):\n",
    "                    temp=[nums[i],nums[j],nums[k]]\n",
    "                    triplets.append(temp)\n",
    "                k+=1\n",
    "            j+=1\n",
    "        i+=1\n",
    "    return triplets\n",
    "    "
   ]
  },
  {
   "cell_type": "code",
   "execution_count": 27,
   "id": "65506b0b",
   "metadata": {},
   "outputs": [
    {
     "data": {
      "text/plain": [
       "[[-1, -1, 2], [-1, 0, 1], [-1, 0, 1]]"
      ]
     },
     "execution_count": 27,
     "metadata": {},
     "output_type": "execute_result"
    }
   ],
   "source": [
    "threesum(nums)"
   ]
  },
  {
   "cell_type": "code",
   "execution_count": null,
   "id": "d2a9393b",
   "metadata": {},
   "outputs": [],
   "source": []
  }
 ],
 "metadata": {
  "kernelspec": {
   "display_name": "Python 3 (ipykernel)",
   "language": "python",
   "name": "python3"
  },
  "language_info": {
   "codemirror_mode": {
    "name": "ipython",
    "version": 3
   },
   "file_extension": ".py",
   "mimetype": "text/x-python",
   "name": "python",
   "nbconvert_exporter": "python",
   "pygments_lexer": "ipython3",
   "version": "3.10.7"
  }
 },
 "nbformat": 4,
 "nbformat_minor": 5
}
