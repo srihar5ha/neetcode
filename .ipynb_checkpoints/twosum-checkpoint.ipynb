{
 "cells": [
  {
   "cell_type": "code",
   "execution_count": 64,
   "id": "141405ac",
   "metadata": {},
   "outputs": [],
   "source": [
    "numbers = [-1,0,2]\n",
    "target = 0\n",
    "nums = [-1,0,1,2,-1,-4]"
   ]
  },
  {
   "cell_type": "code",
   "execution_count": 65,
   "id": "1eca1aa7",
   "metadata": {},
   "outputs": [],
   "source": [
    "def twosum(numbers,target):\n",
    "    l,r=0,len(numbers)-1\n",
    "    while(l<r):\n",
    "        if(numbers[l]+numbers[r]==target):\n",
    "            return l+1,r+1\n",
    "        elif(numbers[l]+numbers[r]<target):\n",
    "            l+=1\n",
    "        else:\n",
    "            r-=1\n",
    "    return -1,-1#when no solution"
   ]
  },
  {
   "cell_type": "code",
   "execution_count": 83,
   "id": "c440db47",
   "metadata": {},
   "outputs": [],
   "source": []
  },
  {
   "cell_type": "code",
   "execution_count": 84,
   "id": "03ea31d0",
   "metadata": {},
   "outputs": [
    {
     "name": "stdout",
     "output_type": "stream",
     "text": [
      "0 -1 -1\n",
      "1 1 4\n",
      "2 1 2\n",
      "3 -1 -1\n",
      "[[-1, -1, 1], [-1, -1, -1]]\n"
     ]
    }
   ],
   "source": [
    "\n",
    "threesum(nums,target)"
   ]
  },
  {
   "cell_type": "code",
   "execution_count": 80,
   "id": "15709d3b",
   "metadata": {},
   "outputs": [
    {
     "data": {
      "text/plain": [
       "[-4, -1, -1, 0, 1, 2]"
      ]
     },
     "execution_count": 80,
     "metadata": {},
     "output_type": "execute_result"
    }
   ],
   "source": [
    "nums"
   ]
  },
  {
   "cell_type": "code",
   "execution_count": null,
   "id": "838c6288",
   "metadata": {},
   "outputs": [],
   "source": []
  }
 ],
 "metadata": {
  "kernelspec": {
   "display_name": "Python 3 (ipykernel)",
   "language": "python",
   "name": "python3"
  },
  "language_info": {
   "codemirror_mode": {
    "name": "ipython",
    "version": 3
   },
   "file_extension": ".py",
   "mimetype": "text/x-python",
   "name": "python",
   "nbconvert_exporter": "python",
   "pygments_lexer": "ipython3",
   "version": "3.10.7"
  }
 },
 "nbformat": 4,
 "nbformat_minor": 5
}
